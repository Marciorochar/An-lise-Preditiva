{
  "nbformat": 4,
  "nbformat_minor": 0,
  "metadata": {
    "colab": {
      "provenance": [],
      "authorship_tag": "ABX9TyMWJyWnHnapmoYeawp2g1td",
      "include_colab_link": true
    },
    "kernelspec": {
      "name": "python3",
      "display_name": "Python 3"
    },
    "language_info": {
      "name": "python"
    }
  },
  "cells": [
    {
      "cell_type": "markdown",
      "metadata": {
        "id": "view-in-github",
        "colab_type": "text"
      },
      "source": [
        "<a href=\"https://colab.research.google.com/github/Marciorochar/Analise-Preditiva/blob/main/Modelos_de_Series_Temporais.ipynb\" target=\"_parent\"><img src=\"https://colab.research.google.com/assets/colab-badge.svg\" alt=\"Open In Colab\"/></a>"
      ]
    },
    {
      "cell_type": "markdown",
      "source": [
        "# Introdução aos Modelos de Séries Temporais:\n",
        "\n",
        "\n",
        "- **Modelo Cumulativo** - O modelo cumulativo é uma técnica que acumula valores ao longo do tempo. Ele é útil para entender o crescimento ou a acumulação de uma variável, como vendas ou produção, ao longo de um período. A soma cumulativa fornece uma visão clara de como os valores se acumulam, permitindo identificar tendências de longo prazo.\n",
        "\n",
        "- **Modelo Naive** - O modelo naive é uma abordagem de previsão simples que assume que o valor futuro de uma série temporal será igual ao valor mais recente observado. Este modelo é útil em situações onde os dados não apresentam tendências ou padrões sazonais significativos. Apesar de sua simplicidade, pode ser eficaz em ambientes estáveis.\n",
        "\n",
        "- **Modelo de Média Móvel** - O modelo de média móvel suaviza flutuações de curto prazo e destaca tendências de longo prazo ou ciclos. Ele calcula a média de um conjunto de valores em uma janela de tempo específica, que se move ao longo da série temporal. Este modelo é ideal para eliminar ruídos e identificar padrões subjacentes nos dados.\n",
        "\n",
        "Esses modelos são ferramentas fundamentais para análise de séries temporais, cada um oferecendo uma abordagem única para entender e prever dados ao longo do tempo.\n",
        "\n"
      ],
      "metadata": {
        "id": "bD-CDi0Iu4Cx"
      }
    },
    {
      "cell_type": "code",
      "execution_count": 9,
      "metadata": {
        "colab": {
          "base_uri": "https://localhost:8080/"
        },
        "id": "_PbGNOD4pIDm",
        "outputId": "c22ff061-1612-46d8-df7c-89b33afd7a41"
      },
      "outputs": [
        {
          "output_type": "stream",
          "name": "stdout",
          "text": [
            "\n",
            "Modelo: Naive\n",
            "MAPE: 9.10%\n",
            "RMSE: 14.64\n",
            "MAD: 12.86\n",
            "\n",
            "Modelo: Cumulativo\n",
            "MAPE: 16.43%\n",
            "RMSE: 25.71\n",
            "MAD: 24.06\n",
            "\n",
            "Previsões:\n",
            "   real  naive  cumulativo\n",
            "1   120  100.0  100.000000\n",
            "2   130  120.0  110.000000\n",
            "3   125  130.0  116.666667\n",
            "4   150  125.0  118.750000\n",
            "5   145  150.0  125.000000\n",
            "6   160  145.0  128.333333\n",
            "7   170  160.0  132.857143\n"
          ]
        }
      ],
      "source": [
        "import pandas as pd\n",
        "import numpy as np\n",
        "from sklearn.metrics import mean_absolute_percentage_error, mean_squared_error, mean_absolute_error\n",
        "\n",
        "# Exemplo de série temporal (substitua pelos seus dados reais)\n",
        "dados = [100, 120, 130, 125, 150, 145, 160, 170]\n",
        "df = pd.DataFrame({'real': dados})\n",
        "\n",
        "# Modelo Naive (prevê o valor anterior)\n",
        "df['naive'] = df['real'].shift(1)\n",
        "\n",
        "# Modelo Cumulativo (média acumulada até o ponto anterior)\n",
        "df['cumulativo'] = df['real'].expanding().mean().shift(1)\n",
        "\n",
        "# Remove a primeira linha com NaN\n",
        "df = df.dropna()\n",
        "\n",
        "# Função para calcular e exibir métricas\n",
        "def avaliar_modelo(nome, real, previsto):\n",
        "    mape = mean_absolute_percentage_error(real, previsto) * 100\n",
        "    rmse = np.sqrt(mean_squared_error(real, previsto))\n",
        "    mad = mean_absolute_error(real, previsto)\n",
        "\n",
        "    print(f\"\\nModelo: {nome}\")\n",
        "    print(f\"MAPE: {mape:.2f}%\")\n",
        "    print(f\"RMSE: {rmse:.2f}\")\n",
        "    print(f\"MAD: {mad:.2f}\")\n",
        "\n",
        "# Avaliação dos modelos\n",
        "avaliar_modelo(\"Naive\", df['real'], df['naive'])\n",
        "avaliar_modelo(\"Cumulativo\", df['real'], df['cumulativo'])\n",
        "\n",
        "# Exibir DataFrame final\n",
        "print(\"\\nPrevisões:\")\n",
        "print(df)"
      ]
    },
    {
      "cell_type": "code",
      "source": [
        "import pandas as pd\n",
        "import numpy as np\n",
        "from sklearn.metrics import mean_absolute_percentage_error, mean_squared_error, mean_absolute_error\n",
        "\n",
        "# Exemplo de dados (substitua pelos seus)\n",
        "dados = [100, 120, 130, 125, 150, 145, 160, 170]\n",
        "df = pd.DataFrame({'real': dados})\n",
        "\n",
        "# Defina a janela da média móvel (por exemplo, 3 períodos)\n",
        "janela = 3\n",
        "\n",
        "# Cálculo da média móvel como previsão\n",
        "df['media_movel'] = df['real'].rolling(window=janela).mean().shift(1)\n",
        "\n",
        "# Remove linhas com NaN (início da série)\n",
        "df = df.dropna()\n",
        "\n",
        "# Função de avaliação\n",
        "def avaliar_modelo(nome, real, previsto):\n",
        "    mape = mean_absolute_percentage_error(real, previsto) * 100\n",
        "    rmse = np.sqrt(mean_squared_error(real, previsto))\n",
        "    mad = mean_absolute_error(real, previsto)\n",
        "\n",
        "    print(f\"\\nModelo: {nome}\")\n",
        "    print(f\"MAPE: {mape:.2f}%\")\n",
        "    print(f\"RMSE: {rmse:.2f}\")\n",
        "    print(f\"MAD: {mad:.2f}\")\n",
        "\n",
        "# Avaliar o modelo de média móvel\n",
        "avaliar_modelo(\"Média Móvel\", df['real'], df['media_movel'])\n",
        "\n",
        "# Mostrar as previsões\n",
        "print(\"\\nPrevisões:\")\n",
        "print(df)"
      ],
      "metadata": {
        "colab": {
          "base_uri": "https://localhost:8080/"
        },
        "id": "kKePdB_MuMui",
        "outputId": "81a59511-dfd7-4e3a-99d9-6e1fd6217d16"
      },
      "execution_count": 10,
      "outputs": [
        {
          "output_type": "stream",
          "name": "stdout",
          "text": [
            "\n",
            "Modelo: Média Móvel\n",
            "MAPE: 10.70%\n",
            "RMSE: 17.50\n",
            "MAD: 16.33\n",
            "\n",
            "Previsões:\n",
            "   real  media_movel\n",
            "3   125   116.666667\n",
            "4   150   125.000000\n",
            "5   145   135.000000\n",
            "6   160   140.000000\n",
            "7   170   151.666667\n"
          ]
        }
      ]
    }
  ]
}