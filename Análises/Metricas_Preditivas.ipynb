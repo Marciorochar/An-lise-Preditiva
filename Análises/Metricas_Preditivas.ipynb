{
  "nbformat": 4,
  "nbformat_minor": 0,
  "metadata": {
    "colab": {
      "provenance": [],
      "include_colab_link": true
    },
    "kernelspec": {
      "name": "python3",
      "display_name": "Python 3"
    },
    "language_info": {
      "name": "python"
    }
  },
  "cells": [
    {
      "cell_type": "markdown",
      "metadata": {
        "id": "view-in-github",
        "colab_type": "text"
      },
      "source": [
        "<a href=\"https://colab.research.google.com/github/Marciorochar/Analise-Preditiva/blob/main/An%C3%A1lises/Metricas_Preditivas.ipynb\" target=\"_parent\"><img src=\"https://colab.research.google.com/assets/colab-badge.svg\" alt=\"Open In Colab\"/></a>"
      ]
    },
    {
      "cell_type": "markdown",
      "source": [
        "###Nesse código iremos apresentar algumas Metricas Preditivas"
      ],
      "metadata": {
        "id": "IPDeBiYyj8G7"
      }
    },
    {
      "cell_type": "code",
      "source": [
        "import numpy as np\n",
        "from sklearn.metrics import mean_absolute_error, mean_squared_error\n",
        "\n",
        "# Suponha que df já está carregado e tratado\n",
        "# Timestamp | Camisetas_básicas_masculinas\n",
        "\n",
        "# Separar dados: 80% treino, 20% teste\n",
        "tamanho_treino = int(len(df) * 0.8)\n",
        "df_treino = df.iloc[:tamanho_treino]\n",
        "df_teste = df.iloc[tamanho_treino:]\n",
        "\n",
        "# Previsão simples: usar o nível (média do treino) como valor constante previsto\n",
        "nivel_medio = df_treino['Camisetas_básicas_masculinas'].mean()\n",
        "df_teste = df_teste.copy()\n",
        "df_teste['previsto'] = nivel_medio  # mesmo valor para todos\n",
        "\n",
        "# Valores reais e previstos\n",
        "reais = df_teste['Camisetas_básicas_masculinas'].values\n",
        "previstos = df_teste['previsto'].values\n",
        "\n",
        "# Calcular métricas\n",
        "mape = np.mean(np.abs((reais - previstos) / reais)) * 100\n",
        "rmse = np.sqrt(mean_squared_error(reais, previstos))\n",
        "mad = mean_absolute_error(reais, previstos)\n",
        "\n",
        "# Mostrar resultados\n",
        "print(f\"MAPE: {mape:.2f}%\")\n",
        "print(f\"RMSE: {rmse:.2f}\")\n",
        "print(f\"MAD: {mad:.2f}\")"
      ],
      "metadata": {
        "colab": {
          "base_uri": "https://localhost:8080/"
        },
        "id": "yOXmLSYhbqhk",
        "outputId": "b552f96d-74d8-4600-f9aa-90eebd72542b"
      },
      "execution_count": null,
      "outputs": [
        {
          "output_type": "stream",
          "name": "stdout",
          "text": [
            "MAPE: 52.03%\n",
            "RMSE: 204.03\n",
            "MAD: 196.35\n"
          ]
        }
      ]
    }
  ]
}